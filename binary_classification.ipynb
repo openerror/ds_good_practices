{
 "cells": [
  {
   "cell_type": "markdown",
   "id": "7a12d8c6",
   "metadata": {},
   "source": [
    "# Binary classification demo\n",
    "As [described](https://www.kaggle.com/datasets/taweilo/loan-approval-classification-data/data) on Kaggle, the data set has been synthetically enlarged using SMOTE. It may contain patterns that do not make \"business sense\". Here we will focus on showcasing data science techniques, as opposed to gaining a deep understanding of the data.\n",
    "\n",
    "Let's assume the binary label `loan_status` indicates whether someone was approved for a loan; and that is what we will predict."
   ]
  },
  {
   "cell_type": "markdown",
   "id": "471bb9e1",
   "metadata": {},
   "source": [
    "## Imports"
   ]
  },
  {
   "cell_type": "code",
   "execution_count": null,
   "id": "9aafb2c2",
   "metadata": {},
   "outputs": [],
   "source": [
    "import matplotlib.pyplot as plt\n",
    "import numpy as np\n",
    "import optuna\n",
    "import pandas as pd\n",
    "import seaborn as sns\n",
    "import shap\n",
    "\n",
    "from functools import partial\n",
    "from catboost import CatBoostClassifier\n",
    "from optuna.samplers import TPESampler\n",
    "from sklearn.metrics import classification_report, f1_score\n",
    "from sklearn.model_selection import train_test_split\n",
    "\n",
    "# pandas's new option to reduce memory footprint and improve reproducibility\n",
    "# https://pandas.pydata.org/docs/user_guide/copy_on_write.html#copy-on-write\n",
    "pd.options.mode.copy_on_write = True"
   ]
  },
  {
   "cell_type": "markdown",
   "id": "f3c610a2",
   "metadata": {},
   "source": [
    "## Obtain and explore data\n",
    "- Handle outliers\n",
    "- Hunt for correlative and therefore potentially predictive features. "
   ]
  },
  {
   "cell_type": "markdown",
   "id": "eb0ff706",
   "metadata": {},
   "source": [
    "### Load data"
   ]
  },
  {
   "cell_type": "code",
   "execution_count": 2,
   "id": "f5bb72a7",
   "metadata": {},
   "outputs": [
    {
     "name": "stdout",
     "output_type": "stream",
     "text": [
      "<class 'pandas.core.frame.DataFrame'>\n",
      "RangeIndex: 45000 entries, 0 to 44999\n",
      "Data columns (total 14 columns):\n",
      " #   Column                          Non-Null Count  Dtype          \n",
      "---  ------                          --------------  -----          \n",
      " 0   person_age                      45000 non-null  double[pyarrow]\n",
      " 1   person_gender                   45000 non-null  category       \n",
      " 2   person_education                45000 non-null  category       \n",
      " 3   person_income                   45000 non-null  double[pyarrow]\n",
      " 4   person_emp_exp                  45000 non-null  int64[pyarrow] \n",
      " 5   person_home_ownership           45000 non-null  category       \n",
      " 6   loan_amnt                       45000 non-null  double[pyarrow]\n",
      " 7   loan_intent                     45000 non-null  category       \n",
      " 8   loan_int_rate                   45000 non-null  double[pyarrow]\n",
      " 9   loan_percent_income             45000 non-null  double[pyarrow]\n",
      " 10  cb_person_cred_hist_length      45000 non-null  double[pyarrow]\n",
      " 11  credit_score                    45000 non-null  int64[pyarrow] \n",
      " 12  previous_loan_defaults_on_file  45000 non-null  category       \n",
      " 13  loan_status                     45000 non-null  int64[pyarrow] \n",
      "dtypes: category(5), double[pyarrow](6), int64[pyarrow](3)\n",
      "memory usage: 3.3 MB\n"
     ]
    },
    {
     "data": {
      "text/plain": [
       "None"
      ]
     },
     "metadata": {},
     "output_type": "display_data"
    }
   ],
   "source": [
    "# Identified from Kaggle's data card\n",
    "categorical_features = [\"person_gender\", \"person_education\", \"person_home_ownership\", \"loan_intent\", \"previous_loan_defaults_on_file\"]\n",
    "\n",
    "# Load data using pyarrow for max speed\n",
    "# Also, where applicable, encode as pandas Category to save memory\n",
    "raw_data = pd.read_csv(\n",
    "    \"data/loan_data.csv\",\n",
    "    dtype_backend=\"pyarrow\",\n",
    "    engine=\"pyarrow\",\n",
    "    dtype={col: \"category\" for col in categorical_features},\n",
    ")\n",
    "\n",
    "# Check datatypes and nulls (None!)\n",
    "display(raw_data.info())"
   ]
  },
  {
   "cell_type": "code",
   "execution_count": 3,
   "id": "d576663d",
   "metadata": {},
   "outputs": [
    {
     "data": {
      "application/vnd.microsoft.datawrangler.viewer.v0+json": {
       "columns": [
        {
         "name": "index",
         "rawType": "object",
         "type": "string"
        },
        {
         "name": "person_age",
         "rawType": "double[pyarrow]",
         "type": "unknown"
        },
        {
         "name": "person_income",
         "rawType": "double[pyarrow]",
         "type": "unknown"
        },
        {
         "name": "person_emp_exp",
         "rawType": "double[pyarrow]",
         "type": "unknown"
        },
        {
         "name": "loan_amnt",
         "rawType": "double[pyarrow]",
         "type": "unknown"
        },
        {
         "name": "loan_int_rate",
         "rawType": "double[pyarrow]",
         "type": "unknown"
        },
        {
         "name": "loan_percent_income",
         "rawType": "double[pyarrow]",
         "type": "unknown"
        },
        {
         "name": "cb_person_cred_hist_length",
         "rawType": "double[pyarrow]",
         "type": "unknown"
        },
        {
         "name": "credit_score",
         "rawType": "double[pyarrow]",
         "type": "unknown"
        },
        {
         "name": "loan_status",
         "rawType": "double[pyarrow]",
         "type": "unknown"
        }
       ],
       "ref": "2ba06aa5-c89f-459a-892c-b8ee1e2cb9e7",
       "rows": [
        [
         "count",
         "45000.0",
         "45000.0",
         "45000.0",
         "45000.0",
         "45000.0",
         "45000.0",
         "45000.0",
         "45000.0",
         "45000.0"
        ],
        [
         "mean",
         "27.76417777777778",
         "80319.05322222222",
         "5.410333333333333",
         "9583.157555555556",
         "11.006605777777779",
         "0.1397248888888889",
         "5.8674888888888885",
         "632.6087555555556",
         "0.2222222222222222"
        ],
        [
         "std",
         "6.045108211348458",
         "80422.49863189524",
         "6.0635320865745586",
         "6314.886690541196",
         "2.978808280225381",
         "0.08721230801404041",
         "3.87970184516185",
         "50.435865000742275",
         "0.4157443290486464"
        ],
        [
         "min",
         "20.0",
         "8000.0",
         "0.0",
         "500.0",
         "5.42",
         "0.0",
         "2.0",
         "390.0",
         "0.0"
        ],
        [
         "25%",
         "24.0",
         "47204.0",
         "1.0",
         "5000.0",
         "8.59",
         "0.07",
         "3.0",
         "601.0",
         "0.0"
        ],
        [
         "50%",
         "26.0",
         "67048.0",
         "4.0",
         "8000.0",
         "11.01",
         "0.12",
         "4.0",
         "640.0",
         "0.0"
        ],
        [
         "75%",
         "30.0",
         "95789.25",
         "8.0",
         "12237.25",
         "12.99",
         "0.19",
         "8.0",
         "670.0",
         "0.0"
        ],
        [
         "max",
         "144.0",
         "7200766.0",
         "125.0",
         "35000.0",
         "20.0",
         "0.66",
         "30.0",
         "850.0",
         "1.0"
        ]
       ],
       "shape": {
        "columns": 9,
        "rows": 8
       }
      },
      "text/html": [
       "<div>\n",
       "<style scoped>\n",
       "    .dataframe tbody tr th:only-of-type {\n",
       "        vertical-align: middle;\n",
       "    }\n",
       "\n",
       "    .dataframe tbody tr th {\n",
       "        vertical-align: top;\n",
       "    }\n",
       "\n",
       "    .dataframe thead th {\n",
       "        text-align: right;\n",
       "    }\n",
       "</style>\n",
       "<table border=\"1\" class=\"dataframe\">\n",
       "  <thead>\n",
       "    <tr style=\"text-align: right;\">\n",
       "      <th></th>\n",
       "      <th>person_age</th>\n",
       "      <th>person_income</th>\n",
       "      <th>person_emp_exp</th>\n",
       "      <th>loan_amnt</th>\n",
       "      <th>loan_int_rate</th>\n",
       "      <th>loan_percent_income</th>\n",
       "      <th>cb_person_cred_hist_length</th>\n",
       "      <th>credit_score</th>\n",
       "      <th>loan_status</th>\n",
       "    </tr>\n",
       "  </thead>\n",
       "  <tbody>\n",
       "    <tr>\n",
       "      <th>count</th>\n",
       "      <td>45000.0</td>\n",
       "      <td>45000.0</td>\n",
       "      <td>45000.0</td>\n",
       "      <td>45000.0</td>\n",
       "      <td>45000.0</td>\n",
       "      <td>45000.0</td>\n",
       "      <td>45000.0</td>\n",
       "      <td>45000.0</td>\n",
       "      <td>45000.0</td>\n",
       "    </tr>\n",
       "    <tr>\n",
       "      <th>mean</th>\n",
       "      <td>27.764178</td>\n",
       "      <td>80319.053222</td>\n",
       "      <td>5.410333</td>\n",
       "      <td>9583.157556</td>\n",
       "      <td>11.006606</td>\n",
       "      <td>0.139725</td>\n",
       "      <td>5.867489</td>\n",
       "      <td>632.608756</td>\n",
       "      <td>0.222222</td>\n",
       "    </tr>\n",
       "    <tr>\n",
       "      <th>std</th>\n",
       "      <td>6.045108</td>\n",
       "      <td>80422.498632</td>\n",
       "      <td>6.063532</td>\n",
       "      <td>6314.886691</td>\n",
       "      <td>2.978808</td>\n",
       "      <td>0.087212</td>\n",
       "      <td>3.879702</td>\n",
       "      <td>50.435865</td>\n",
       "      <td>0.415744</td>\n",
       "    </tr>\n",
       "    <tr>\n",
       "      <th>min</th>\n",
       "      <td>20.0</td>\n",
       "      <td>8000.0</td>\n",
       "      <td>0.0</td>\n",
       "      <td>500.0</td>\n",
       "      <td>5.42</td>\n",
       "      <td>0.0</td>\n",
       "      <td>2.0</td>\n",
       "      <td>390.0</td>\n",
       "      <td>0.0</td>\n",
       "    </tr>\n",
       "    <tr>\n",
       "      <th>25%</th>\n",
       "      <td>24.0</td>\n",
       "      <td>47204.0</td>\n",
       "      <td>1.0</td>\n",
       "      <td>5000.0</td>\n",
       "      <td>8.59</td>\n",
       "      <td>0.07</td>\n",
       "      <td>3.0</td>\n",
       "      <td>601.0</td>\n",
       "      <td>0.0</td>\n",
       "    </tr>\n",
       "    <tr>\n",
       "      <th>50%</th>\n",
       "      <td>26.0</td>\n",
       "      <td>67048.0</td>\n",
       "      <td>4.0</td>\n",
       "      <td>8000.0</td>\n",
       "      <td>11.01</td>\n",
       "      <td>0.12</td>\n",
       "      <td>4.0</td>\n",
       "      <td>640.0</td>\n",
       "      <td>0.0</td>\n",
       "    </tr>\n",
       "    <tr>\n",
       "      <th>75%</th>\n",
       "      <td>30.0</td>\n",
       "      <td>95789.25</td>\n",
       "      <td>8.0</td>\n",
       "      <td>12237.25</td>\n",
       "      <td>12.99</td>\n",
       "      <td>0.19</td>\n",
       "      <td>8.0</td>\n",
       "      <td>670.0</td>\n",
       "      <td>0.0</td>\n",
       "    </tr>\n",
       "    <tr>\n",
       "      <th>max</th>\n",
       "      <td>144.0</td>\n",
       "      <td>7200766.0</td>\n",
       "      <td>125.0</td>\n",
       "      <td>35000.0</td>\n",
       "      <td>20.0</td>\n",
       "      <td>0.66</td>\n",
       "      <td>30.0</td>\n",
       "      <td>850.0</td>\n",
       "      <td>1.0</td>\n",
       "    </tr>\n",
       "  </tbody>\n",
       "</table>\n",
       "</div>"
      ],
      "text/plain": [
       "       person_age  person_income  person_emp_exp    loan_amnt  loan_int_rate  \\\n",
       "count     45000.0        45000.0         45000.0      45000.0        45000.0   \n",
       "mean    27.764178   80319.053222        5.410333  9583.157556      11.006606   \n",
       "std      6.045108   80422.498632        6.063532  6314.886691       2.978808   \n",
       "min          20.0         8000.0             0.0        500.0           5.42   \n",
       "25%          24.0        47204.0             1.0       5000.0           8.59   \n",
       "50%          26.0        67048.0             4.0       8000.0          11.01   \n",
       "75%          30.0       95789.25             8.0     12237.25          12.99   \n",
       "max         144.0      7200766.0           125.0      35000.0           20.0   \n",
       "\n",
       "       loan_percent_income  cb_person_cred_hist_length  credit_score  \\\n",
       "count              45000.0                     45000.0       45000.0   \n",
       "mean              0.139725                    5.867489    632.608756   \n",
       "std               0.087212                    3.879702     50.435865   \n",
       "min                    0.0                         2.0         390.0   \n",
       "25%                   0.07                         3.0         601.0   \n",
       "50%                   0.12                         4.0         640.0   \n",
       "75%                   0.19                         8.0         670.0   \n",
       "max                   0.66                        30.0         850.0   \n",
       "\n",
       "       loan_status  \n",
       "count      45000.0  \n",
       "mean      0.222222  \n",
       "std       0.415744  \n",
       "min            0.0  \n",
       "25%            0.0  \n",
       "50%            0.0  \n",
       "75%            0.0  \n",
       "max            1.0  "
      ]
     },
     "execution_count": 3,
     "metadata": {},
     "output_type": "execute_result"
    }
   ],
   "source": [
    "# person_age and person_emp_exp have nonsensically large values\n",
    "# For simplicity, I am filtering them out.\n",
    "raw_data.describe()"
   ]
  },
  {
   "cell_type": "code",
   "execution_count": 4,
   "id": "736177fb",
   "metadata": {},
   "outputs": [
    {
     "data": {
      "application/vnd.microsoft.datawrangler.viewer.v0+json": {
       "columns": [
        {
         "name": "index",
         "rawType": "object",
         "type": "string"
        },
        {
         "name": "person_age",
         "rawType": "double[pyarrow]",
         "type": "unknown"
        },
        {
         "name": "person_income",
         "rawType": "double[pyarrow]",
         "type": "unknown"
        },
        {
         "name": "person_emp_exp",
         "rawType": "double[pyarrow]",
         "type": "unknown"
        },
        {
         "name": "loan_amnt",
         "rawType": "double[pyarrow]",
         "type": "unknown"
        },
        {
         "name": "loan_int_rate",
         "rawType": "double[pyarrow]",
         "type": "unknown"
        },
        {
         "name": "loan_percent_income",
         "rawType": "double[pyarrow]",
         "type": "unknown"
        },
        {
         "name": "cb_person_cred_hist_length",
         "rawType": "double[pyarrow]",
         "type": "unknown"
        },
        {
         "name": "credit_score",
         "rawType": "double[pyarrow]",
         "type": "unknown"
        },
        {
         "name": "loan_status",
         "rawType": "double[pyarrow]",
         "type": "unknown"
        }
       ],
       "ref": "09db791b-940c-45d8-b653-7f7804493086",
       "rows": [
        [
         "count",
         "44992.0",
         "44992.0",
         "44992.0",
         "44992.0",
         "44992.0",
         "44992.0",
         "44992.0",
         "44992.0",
         "44992.0"
        ],
        [
         "mean",
         "27.746955014224753",
         "79909.56267780939",
         "5.392958748221906",
         "9583.245288051208",
         "11.006447812944524",
         "0.13973461948790897",
         "5.866087304409673",
         "632.582592460882",
         "0.22226173541963015"
        ],
        [
         "std",
         "5.901543181884808",
         "63322.39430014425",
         "5.917870638193081",
         "6314.85610314357",
         "2.9790185425283773",
         "0.08720686475170837",
         "3.875929656182473",
         "50.398623278699205",
         "0.41577072831310385"
        ],
        [
         "min",
         "20.0",
         "8000.0",
         "0.0",
         "500.0",
         "5.42",
         "0.0",
         "2.0",
         "390.0",
         "0.0"
        ],
        [
         "25%",
         "24.0",
         "47197.25",
         "1.0",
         "5000.0",
         "8.59",
         "0.07",
         "3.0",
         "601.0",
         "0.0"
        ],
        [
         "50%",
         "26.0",
         "67046.0",
         "4.0",
         "8000.0",
         "11.01",
         "0.12",
         "4.0",
         "640.0",
         "0.0"
        ],
        [
         "75%",
         "30.0",
         "95779.0",
         "8.0",
         "12237.25",
         "12.99",
         "0.19",
         "8.0",
         "670.0",
         "0.0"
        ],
        [
         "max",
         "84.0",
         "2448661.0",
         "62.0",
         "35000.0",
         "20.0",
         "0.66",
         "30.0",
         "784.0",
         "1.0"
        ]
       ],
       "shape": {
        "columns": 9,
        "rows": 8
       }
      },
      "text/html": [
       "<div>\n",
       "<style scoped>\n",
       "    .dataframe tbody tr th:only-of-type {\n",
       "        vertical-align: middle;\n",
       "    }\n",
       "\n",
       "    .dataframe tbody tr th {\n",
       "        vertical-align: top;\n",
       "    }\n",
       "\n",
       "    .dataframe thead th {\n",
       "        text-align: right;\n",
       "    }\n",
       "</style>\n",
       "<table border=\"1\" class=\"dataframe\">\n",
       "  <thead>\n",
       "    <tr style=\"text-align: right;\">\n",
       "      <th></th>\n",
       "      <th>person_age</th>\n",
       "      <th>person_income</th>\n",
       "      <th>person_emp_exp</th>\n",
       "      <th>loan_amnt</th>\n",
       "      <th>loan_int_rate</th>\n",
       "      <th>loan_percent_income</th>\n",
       "      <th>cb_person_cred_hist_length</th>\n",
       "      <th>credit_score</th>\n",
       "      <th>loan_status</th>\n",
       "    </tr>\n",
       "  </thead>\n",
       "  <tbody>\n",
       "    <tr>\n",
       "      <th>count</th>\n",
       "      <td>44992.0</td>\n",
       "      <td>44992.0</td>\n",
       "      <td>44992.0</td>\n",
       "      <td>44992.0</td>\n",
       "      <td>44992.0</td>\n",
       "      <td>44992.0</td>\n",
       "      <td>44992.0</td>\n",
       "      <td>44992.0</td>\n",
       "      <td>44992.0</td>\n",
       "    </tr>\n",
       "    <tr>\n",
       "      <th>mean</th>\n",
       "      <td>27.746955</td>\n",
       "      <td>79909.562678</td>\n",
       "      <td>5.392959</td>\n",
       "      <td>9583.245288</td>\n",
       "      <td>11.006448</td>\n",
       "      <td>0.139735</td>\n",
       "      <td>5.866087</td>\n",
       "      <td>632.582592</td>\n",
       "      <td>0.222262</td>\n",
       "    </tr>\n",
       "    <tr>\n",
       "      <th>std</th>\n",
       "      <td>5.901543</td>\n",
       "      <td>63322.3943</td>\n",
       "      <td>5.917871</td>\n",
       "      <td>6314.856103</td>\n",
       "      <td>2.979019</td>\n",
       "      <td>0.087207</td>\n",
       "      <td>3.87593</td>\n",
       "      <td>50.398623</td>\n",
       "      <td>0.415771</td>\n",
       "    </tr>\n",
       "    <tr>\n",
       "      <th>min</th>\n",
       "      <td>20.0</td>\n",
       "      <td>8000.0</td>\n",
       "      <td>0.0</td>\n",
       "      <td>500.0</td>\n",
       "      <td>5.42</td>\n",
       "      <td>0.0</td>\n",
       "      <td>2.0</td>\n",
       "      <td>390.0</td>\n",
       "      <td>0.0</td>\n",
       "    </tr>\n",
       "    <tr>\n",
       "      <th>25%</th>\n",
       "      <td>24.0</td>\n",
       "      <td>47197.25</td>\n",
       "      <td>1.0</td>\n",
       "      <td>5000.0</td>\n",
       "      <td>8.59</td>\n",
       "      <td>0.07</td>\n",
       "      <td>3.0</td>\n",
       "      <td>601.0</td>\n",
       "      <td>0.0</td>\n",
       "    </tr>\n",
       "    <tr>\n",
       "      <th>50%</th>\n",
       "      <td>26.0</td>\n",
       "      <td>67046.0</td>\n",
       "      <td>4.0</td>\n",
       "      <td>8000.0</td>\n",
       "      <td>11.01</td>\n",
       "      <td>0.12</td>\n",
       "      <td>4.0</td>\n",
       "      <td>640.0</td>\n",
       "      <td>0.0</td>\n",
       "    </tr>\n",
       "    <tr>\n",
       "      <th>75%</th>\n",
       "      <td>30.0</td>\n",
       "      <td>95779.0</td>\n",
       "      <td>8.0</td>\n",
       "      <td>12237.25</td>\n",
       "      <td>12.99</td>\n",
       "      <td>0.19</td>\n",
       "      <td>8.0</td>\n",
       "      <td>670.0</td>\n",
       "      <td>0.0</td>\n",
       "    </tr>\n",
       "    <tr>\n",
       "      <th>max</th>\n",
       "      <td>84.0</td>\n",
       "      <td>2448661.0</td>\n",
       "      <td>62.0</td>\n",
       "      <td>35000.0</td>\n",
       "      <td>20.0</td>\n",
       "      <td>0.66</td>\n",
       "      <td>30.0</td>\n",
       "      <td>784.0</td>\n",
       "      <td>1.0</td>\n",
       "    </tr>\n",
       "  </tbody>\n",
       "</table>\n",
       "</div>"
      ],
      "text/plain": [
       "       person_age  person_income  person_emp_exp    loan_amnt  loan_int_rate  \\\n",
       "count     44992.0        44992.0         44992.0      44992.0        44992.0   \n",
       "mean    27.746955   79909.562678        5.392959  9583.245288      11.006448   \n",
       "std      5.901543     63322.3943        5.917871  6314.856103       2.979019   \n",
       "min          20.0         8000.0             0.0        500.0           5.42   \n",
       "25%          24.0       47197.25             1.0       5000.0           8.59   \n",
       "50%          26.0        67046.0             4.0       8000.0          11.01   \n",
       "75%          30.0        95779.0             8.0     12237.25          12.99   \n",
       "max          84.0      2448661.0            62.0      35000.0           20.0   \n",
       "\n",
       "       loan_percent_income  cb_person_cred_hist_length  credit_score  \\\n",
       "count              44992.0                     44992.0       44992.0   \n",
       "mean              0.139735                    5.866087    632.582592   \n",
       "std               0.087207                     3.87593     50.398623   \n",
       "min                    0.0                         2.0         390.0   \n",
       "25%                   0.07                         3.0         601.0   \n",
       "50%                   0.12                         4.0         640.0   \n",
       "75%                   0.19                         8.0         670.0   \n",
       "max                   0.66                        30.0         784.0   \n",
       "\n",
       "       loan_status  \n",
       "count      44992.0  \n",
       "mean      0.222262  \n",
       "std       0.415771  \n",
       "min            0.0  \n",
       "25%            0.0  \n",
       "50%            0.0  \n",
       "75%            0.0  \n",
       "max            1.0  "
      ]
     },
     "execution_count": 4,
     "metadata": {},
     "output_type": "execute_result"
    }
   ],
   "source": [
    "# Say, there's a policy of not lending to folks older than 90.\n",
    "raw_data = raw_data.query(\"person_age <= 90\")\n",
    "raw_data.describe()"
   ]
  },
  {
   "cell_type": "code",
   "execution_count": 26,
   "id": "9f97d8b8",
   "metadata": {},
   "outputs": [],
   "source": [
    "TARGET_VAR = \"loan_status\"\n",
    "\n",
    "numerical_features = raw_data.columns.difference([TARGET_VAR] + categorical_features).to_list()\n",
    "\n",
    "X = raw_data[numerical_features + categorical_features]\n",
    "y = raw_data[TARGET_VAR]\n",
    "\n",
    "X_train, X_test, y_train, y_test = train_test_split(X, y, shuffle=True, test_size=0.2)"
   ]
  },
  {
   "cell_type": "markdown",
   "id": "a50513b4",
   "metadata": {},
   "source": [
    "### Numerical data\n",
    "Check for correlation in-between numerical vars, because that can produce multicollinearity."
   ]
  },
  {
   "cell_type": "code",
   "execution_count": 6,
   "id": "e9fa3630",
   "metadata": {},
   "outputs": [
    {
     "data": {
      "text/plain": [
       "Text(0.5, 1.0, 'Spearman Correlation Matrix of Numerical Features')"
      ]
     },
     "execution_count": 6,
     "metadata": {},
     "output_type": "execute_result"
    },
    {
     "data": {
      "image/png": "[encoded data removed]",
      "text/plain": [
       "<Figure size 640x480 with 2 Axes>"
      ]
     },
     "metadata": {},
     "output_type": "display_data"
    }
   ],
   "source": [
    "# Calculate the Spearman correlation matrix\n",
    "# Spearman > Pearson, so that we capture non-linear relationships as well\n",
    "correlation_matrix = raw_data[numerical_features].corr(method='spearman')\n",
    "ax = sns.heatmap(correlation_matrix, annot=True, fmt=\".2f\", cmap=\"coolwarm\", linewidths=.5)\n",
    "ax.set_title('Spearman Correlation Matrix of Numerical Features')"
   ]
  },
  {
   "cell_type": "markdown",
   "id": "4a6e4ce8",
   "metadata": {},
   "source": [
    "Check for correlation between numerical vars and target. \n",
    "\n",
    "For example, there appears to be only a weak correlation between `loan_status` and the features\n",
    "- `cb_person_cred_hist_length`\n",
    "- `person_age`\n",
    "\n",
    "We may consider excluding this feature from a 1st pass model. For now, let's include them and let SHAP determine whether they are useful."
   ]
  },
  {
   "cell_type": "code",
   "execution_count": 7,
   "id": "062cdb79",
   "metadata": {},
   "outputs": [
    {
     "data": {
      "image/png": "[encoded data removed]",
      "text/plain": [
       "<Figure size 700x1050 with 6 Axes>"
      ]
     },
     "metadata": {},
     "output_type": "display_data"
    }
   ],
   "source": [
    "# Subplot the boxtplots into a grid with two columns\n",
    "fig, axes = plt.subplots(len(numerical_features) // 3, 3, figsize=(7, 10.5), tight_layout=True) # Adjust figsize as needed\n",
    "\n",
    "for ax, feature in zip(axes.flatten(), numerical_features):\n",
    "   sns.boxplot(x=TARGET_VAR, y=feature, data=raw_data, ax=ax, hue=TARGET_VAR)\n",
    "   ax.set_xlabel(TARGET_VAR)\n",
    "   ax.set_ylabel(feature)\n",
    "   # ax.tick_params(axis='y', labelsize=10) # Adjust label size if needed\n",
    "   ax.get_legend().remove()"
   ]
  },
  {
   "cell_type": "markdown",
   "id": "da9c6230",
   "metadata": {},
   "source": [
    "### Categorical data\n",
    "Check if each unique values of each categorical var correspond to different distributions of the target variable.\n",
    "\n",
    "For example, `person_gender` and `person_education` seem to have the same distributions across both values of `loan_amount`. Their utility as ML features may be limited."
   ]
  },
  {
   "cell_type": "code",
   "execution_count": null,
   "id": "3e1a9c85",
   "metadata": {},
   "outputs": [
    {
     "name": "stdout",
     "output_type": "stream",
     "text": [
      "person_gender\n"
     ]
    },
    {
     "data": {
      "application/vnd.microsoft.datawrangler.viewer.v0+json": {
       "columns": [
        {
         "name": "('person_gender', 'loan_status')",
         "rawType": "object",
         "type": "unknown"
        },
        {
         "name": "proportion",
         "rawType": "double[pyarrow]",
         "type": "unknown"
        }
       ],
       "ref": "18341b9f-e3ef-4b7c-a326-7d05855cee4d",
       "rows": [
        [
         "('female', 0)",
         "0.78"
        ],
        [
         "('female', 1)",
         "0.22"
        ],
        [
         "('male', 0)",
         "0.78"
        ],
        [
         "('male', 1)",
         "0.22"
        ]
       ],
       "shape": {
        "columns": 1,
        "rows": 4
       }
      },
      "text/plain": [
       "person_gender  loan_status\n",
       "female         0              0.78\n",
       "               1              0.22\n",
       "male           0              0.78\n",
       "               1              0.22\n",
       "Name: proportion, dtype: double[pyarrow]"
      ]
     },
     "metadata": {},
     "output_type": "display_data"
    },
    {
     "name": "stdout",
     "output_type": "stream",
     "text": [
      "person_education\n"
     ]
    },
    {
     "data": {
      "application/vnd.microsoft.datawrangler.viewer.v0+json": {
       "columns": [
        {
         "name": "('person_education', 'loan_status')",
         "rawType": "object",
         "type": "unknown"
        },
        {
         "name": "proportion",
         "rawType": "double[pyarrow]",
         "type": "unknown"
        }
       ],
       "ref": "688cb977-d6c6-43fd-a737-e36fe3347b95",
       "rows": [
        [
         "('Associate', 0)",
         "0.78"
        ],
        [
         "('Associate', 1)",
         "0.22"
        ],
        [
         "('Bachelor', 0)",
         "0.77"
        ],
        [
         "('Bachelor', 1)",
         "0.23"
        ],
        [
         "('Doctorate', 0)",
         "0.77"
        ],
        [
         "('Doctorate', 1)",
         "0.23"
        ],
        [
         "('High School', 0)",
         "0.78"
        ],
        [
         "('High School', 1)",
         "0.22"
        ],
        [
         "('Master', 0)",
         "0.78"
        ],
        [
         "('Master', 1)",
         "0.22"
        ]
       ],
       "shape": {
        "columns": 1,
        "rows": 10
       }
      },
      "text/plain": [
       "person_education  loan_status\n",
       "Associate         0              0.78\n",
       "                  1              0.22\n",
       "Bachelor          0              0.77\n",
       "                  1              0.23\n",
       "Doctorate         0              0.77\n",
       "                  1              0.23\n",
       "High School       0              0.78\n",
       "                  1              0.22\n",
       "Master            0              0.78\n",
       "                  1              0.22\n",
       "Name: proportion, dtype: double[pyarrow]"
      ]
     },
     "metadata": {},
     "output_type": "display_data"
    },
    {
     "name": "stdout",
     "output_type": "stream",
     "text": [
      "person_home_ownership\n"
     ]
    },
    {
     "data": {
      "application/vnd.microsoft.datawrangler.viewer.v0+json": {
       "columns": [
        {
         "name": "('person_home_ownership', 'loan_status')",
         "rawType": "object",
         "type": "unknown"
        },
        {
         "name": "proportion",
         "rawType": "double[pyarrow]",
         "type": "unknown"
        }
       ],
       "ref": "fb4883e4-a132-43b7-a567-b350b6d2a20f",
       "rows": [
        [
         "('MORTGAGE', 0)",
         "0.88"
        ],
        [
         "('MORTGAGE', 1)",
         "0.12"
        ],
        [
         "('OTHER', 0)",
         "0.67"
        ],
        [
         "('OTHER', 1)",
         "0.33"
        ],
        [
         "('OWN', 0)",
         "0.92"
        ],
        [
         "('OWN', 1)",
         "0.08"
        ],
        [
         "('RENT', 0)",
         "0.68"
        ],
        [
         "('RENT', 1)",
         "0.32"
        ]
       ],
       "shape": {
        "columns": 1,
        "rows": 8
       }
      },
      "text/plain": [
       "person_home_ownership  loan_status\n",
       "MORTGAGE               0              0.88\n",
       "                       1              0.12\n",
       "OTHER                  0              0.67\n",
       "                       1              0.33\n",
       "OWN                    0              0.92\n",
       "                       1              0.08\n",
       "RENT                   0              0.68\n",
       "                       1              0.32\n",
       "Name: proportion, dtype: double[pyarrow]"
      ]
     },
     "metadata": {},
     "output_type": "display_data"
    },
    {
     "name": "stdout",
     "output_type": "stream",
     "text": [
      "loan_intent\n"
     ]
    },
    {
     "data": {
      "application/vnd.microsoft.datawrangler.viewer.v0+json": {
       "columns": [
        {
         "name": "('loan_intent', 'loan_status')",
         "rawType": "object",
         "type": "unknown"
        },
        {
         "name": "proportion",
         "rawType": "double[pyarrow]",
         "type": "unknown"
        }
       ],
       "ref": "a2298660-ebd9-45ba-aeb5-88b36e428bd6",
       "rows": [
        [
         "('DEBTCONSOLIDATION', 0)",
         "0.7"
        ],
        [
         "('DEBTCONSOLIDATION', 1)",
         "0.3"
        ],
        [
         "('EDUCATION', 0)",
         "0.83"
        ],
        [
         "('EDUCATION', 1)",
         "0.17"
        ],
        [
         "('HOMEIMPROVEMENT', 0)",
         "0.74"
        ],
        [
         "('HOMEIMPROVEMENT', 1)",
         "0.26"
        ],
        [
         "('MEDICAL', 0)",
         "0.72"
        ],
        [
         "('MEDICAL', 1)",
         "0.28"
        ],
        [
         "('PERSONAL', 0)",
         "0.8"
        ],
        [
         "('PERSONAL', 1)",
         "0.2"
        ],
        [
         "('VENTURE', 0)",
         "0.86"
        ],
        [
         "('VENTURE', 1)",
         "0.14"
        ]
       ],
       "shape": {
        "columns": 1,
        "rows": 12
       }
      },
      "text/plain": [
       "loan_intent        loan_status\n",
       "DEBTCONSOLIDATION  0               0.7\n",
       "                   1               0.3\n",
       "EDUCATION          0              0.83\n",
       "                   1              0.17\n",
       "HOMEIMPROVEMENT    0              0.74\n",
       "                   1              0.26\n",
       "MEDICAL            0              0.72\n",
       "                   1              0.28\n",
       "PERSONAL           0               0.8\n",
       "                   1               0.2\n",
       "VENTURE            0              0.86\n",
       "                   1              0.14\n",
       "Name: proportion, dtype: double[pyarrow]"
      ]
     },
     "metadata": {},
     "output_type": "display_data"
    },
    {
     "name": "stdout",
     "output_type": "stream",
     "text": [
      "previous_loan_defaults_on_file\n"
     ]
    },
    {
     "data": {
      "application/vnd.microsoft.datawrangler.viewer.v0+json": {
       "columns": [
        {
         "name": "('previous_loan_defaults_on_file', 'loan_status')",
         "rawType": "object",
         "type": "unknown"
        },
        {
         "name": "proportion",
         "rawType": "double[pyarrow]",
         "type": "unknown"
        }
       ],
       "ref": "9b190163-0b70-47cd-88e4-109f3e4fcc19",
       "rows": [
        [
         "('No', 0)",
         "0.55"
        ],
        [
         "('No', 1)",
         "0.45"
        ],
        [
         "('Yes', 0)",
         "1.0"
        ]
       ],
       "shape": {
        "columns": 1,
        "rows": 3
       }
      },
      "text/plain": [
       "previous_loan_defaults_on_file  loan_status\n",
       "No                              0              0.55\n",
       "                                1              0.45\n",
       "Yes                             0               1.0\n",
       "Name: proportion, dtype: double[pyarrow]"
      ]
     },
     "metadata": {},
     "output_type": "display_data"
    }
   ],
   "source": [
    "for col in categorical_features:\n",
    "    print(col)\n",
    "    display(\n",
    "        raw_data.groupby(col, observed=True)[TARGET_VAR]\n",
    "        .value_counts(normalize=True)\n",
    "        .round(2)\n",
    "    )"
   ]
  },
  {
   "cell_type": "markdown",
   "id": "eeb98960",
   "metadata": {},
   "source": [
    "## Train and evaluate models\n",
    "\n",
    "Regarding feature engineering, note that libraries like [XGBoost](https://xgboost.readthedocs.io/en/stable/tutorials/categorical.html), [CatBoost](https://catboost.ai/docs/en/features/categorical-features), and [LightGBM](https://lightgbm.readthedocs.io/en/latest/Advanced-Topics.html#categorical-feature-support) handle numerical and categorical features without explicit scaling or encoding. With approximately 45k observations, boosting models are suitable.\n",
    "\n",
    "For smaller datasets (e.g., 10x less data), logistic regression might be a better choice.\n",
    "\n",
    "Which evaluation metrics should we use? Since the target label is not particularly imbalanced, we can consider accuracy in addition to precision and recall. \n",
    "\n",
    "I imagine for the purpose of determining whether someone should get a loan, precision is more important because we don't want to approve loans that are likely to default."
   ]
  },
  {
   "cell_type": "markdown",
   "id": "3f3d8011",
   "metadata": {},
   "source": [
    "### Baseline performance\n",
    "How well would we do, if we were to naively guess the most frequent class? Any model that we build must exceed this level of performance."
   ]
  },
  {
   "cell_type": "code",
   "execution_count": null,
   "id": "e33fd899",
   "metadata": {},
   "outputs": [
    {
     "name": "stdout",
     "output_type": "stream",
     "text": [
      "              precision    recall  f1-score   support\n",
      "\n",
      "         0.0       0.78      1.00      0.87      6996\n",
      "         1.0       0.00      0.00      0.00      2003\n",
      "\n",
      "    accuracy                           0.78      8999\n",
      "   macro avg       0.39      0.50      0.44      8999\n",
      "weighted avg       0.60      0.78      0.68      8999\n",
      "\n"
     ]
    },
    {
     "name": "stderr",
     "output_type": "stream",
     "text": [
      "/Users/everestlaw/Library/Caches/pypoetry/virtualenvs/data-science-good-practices-demo-NBjP4iyU-py3.12/lib/python3.12/site-packages/sklearn/metrics/_classification.py:1731: UndefinedMetricWarning:\n",
      "\n",
      "Precision is ill-defined and being set to 0.0 in labels with no predicted samples. Use `zero_division` parameter to control this behavior.\n",
      "\n",
      "/Users/everestlaw/Library/Caches/pypoetry/virtualenvs/data-science-good-practices-demo-NBjP4iyU-py3.12/lib/python3.12/site-packages/sklearn/metrics/_classification.py:1731: UndefinedMetricWarning:\n",
      "\n",
      "Precision is ill-defined and being set to 0.0 in labels with no predicted samples. Use `zero_division` parameter to control this behavior.\n",
      "\n",
      "/Users/everestlaw/Library/Caches/pypoetry/virtualenvs/data-science-good-practices-demo-NBjP4iyU-py3.12/lib/python3.12/site-packages/sklearn/metrics/_classification.py:1731: UndefinedMetricWarning:\n",
      "\n",
      "Precision is ill-defined and being set to 0.0 in labels with no predicted samples. Use `zero_division` parameter to control this behavior.\n",
      "\n"
     ]
    }
   ],
   "source": [
    "# Assuming y_test is a numpy array of 0s and 1s\n",
    "# Example: y_test = np.array([0, 1, 0, 0, 1, 1, 0])\n",
    "\n",
    "# Find the most frequent value in y_test\n",
    "naive_y_pred = np.full_like(y_test, np.argmax(np.bincount(y_test)))\n",
    "print(classification_report(y_test, naive_y_pred))"
   ]
  },
  {
   "cell_type": "markdown",
   "id": "94c2e78e",
   "metadata": {},
   "source": [
    "### Gradient boosting"
   ]
  },
  {
   "cell_type": "code",
   "execution_count": null,
   "id": "2b705dfe",
   "metadata": {},
   "outputs": [
    {
     "name": "stdout",
     "output_type": "stream",
     "text": [
      "              precision    recall  f1-score   support\n",
      "\n",
      "         0.0       0.94      0.97      0.96      6996\n",
      "         1.0       0.89      0.80      0.84      2003\n",
      "\n",
      "    accuracy                           0.93      8999\n",
      "   macro avg       0.92      0.88      0.90      8999\n",
      "weighted avg       0.93      0.93      0.93      8999\n",
      "\n"
     ]
    }
   ],
   "source": [
    "CatBoostClassifier_binary = partial(\n",
    "    CatBoostClassifier,\n",
    "    cat_features=categorical_features,\n",
    "    verbose=0,\n",
    "    loss_function=\"Logloss\",\n",
    ")\n",
    "\n",
    "baseline_clf = CatBoostClassifier_binary().fit(X_train, y_train)\n",
    "baseline_y_pred = baseline_clf.predict(X_test)\n",
    "print(classification_report(y_test, baseline_y_pred))"
   ]
  },
  {
   "cell_type": "code",
   "execution_count": null,
   "id": "240bec90",
   "metadata": {},
   "outputs": [],
   "source": [
    "#Use Optuna to find the best hyperparameters\n",
    "def optuna_objective(trial: optuna.Trial) -> float:\n",
    "    model = CatBoostClassifier_binary(\n",
    "        iterations=trial.suggest_int(\"iterations\", 80, 400),\n",
    "        learning_rate=trial.suggest_float(\"learning_rate\", 1e-3, 1e-1, log=True),\n",
    "        depth=trial.suggest_int(\"depth\", 3, 10),\n",
    "        l2_leaf_reg=trial.suggest_float(\"l2_leaf_reg\", 1e-8, 100.0, log=True),\n",
    "        bootstrap_type=trial.suggest_categorical(\"bootstrap_type\", [\"Bayesian\"]),\n",
    "        random_strength=trial.suggest_float(\"random_strength\", 1e-8, 10.0, log=True),\n",
    "        bagging_temperature=trial.suggest_float(\"bagging_temperature\", 0.0, 10.0),\n",
    "        od_type=trial.suggest_categorical(\"od_type\", [\"IncToDec\", \"Iter\"]),\n",
    "        od_wait=trial.suggest_int(\"od_wait\", 1, 10),\n",
    "        verbose=False\n",
    "    )\n",
    "    model.fit(X_train, y_train)\n",
    "    y_pred = model.predict(X_test)\n",
    "    return f1_score(y_test, y_pred)"
   ]
  },
  {
   "cell_type": "code",
   "execution_count": 36,
   "id": "30a1c300",
   "metadata": {},
   "outputs": [],
   "source": [
    "#Create the study\n",
    "optuna.logging.set_verbosity(optuna.logging.WARNING)\n",
    "sampler = TPESampler(seed=None)\n",
    "study = optuna.create_study(study_name=\"catboost\", direction=\"maximize\", sampler=sampler)\n",
    "study.optimize(optuna_objective, n_trials=100)"
   ]
  },
  {
   "cell_type": "code",
   "execution_count": null,
   "id": "a7c66e6c",
   "metadata": {},
   "outputs": [
    {
     "name": "stdout",
     "output_type": "stream",
     "text": [
      "              precision    recall  f1-score   support\n",
      "\n",
      "         0.0       0.94      0.97      0.96      6996\n",
      "         1.0       0.89      0.79      0.84      2003\n",
      "\n",
      "    accuracy                           0.93      8999\n",
      "   macro avg       0.92      0.88      0.90      8999\n",
      "weighted avg       0.93      0.93      0.93      8999\n",
      "\n"
     ]
    }
   ],
   "source": [
    "# Didn't beat untuned model!\n",
    "\n",
    "tuned_clf = CatBoostClassifier_binary(**study.best_params).fit(X_train, y_train)\n",
    "tuned_y_pred = tuned_clf.predict(X_test)\n",
    "print(classification_report(y_test, tuned_y_pred))"
   ]
  },
  {
   "cell_type": "code",
   "execution_count": null,
   "id": "f15d3bc9",
   "metadata": {},
   "outputs": [
    {
     "data": {
      "application/vnd.plotly.v1+json": {
       "config": {
        "plotlyServerURL": "https://plot.ly"
       },
       "data": [
        {
         "cliponaxis": false,
         "hovertemplate": [
          "bootstrap_type (CategoricalDistribution): 0.0<extra></extra>",
          "od_type (CategoricalDistribution): 0.0014878349760998149<extra></extra>",
          "l2_leaf_reg (FloatDistribution): 0.003543131995495711<extra></extra>",
          "random_strength (FloatDistribution): 0.01969773272921903<extra></extra>",
          "depth (IntDistribution): 0.07887160564638204<extra></extra>",
          "od_wait (IntDistribution): 0.12503724767652977<extra></extra>",
          "bagging_temperature (FloatDistribution): 0.1512830138636755<extra></extra>",
          "iterations (IntDistribution): 0.2135775490251804<extra></extra>",
          "learning_rate (FloatDistribution): 0.4065018840874178<extra></extra>"
         ],
         "name": "Objective Value",
         "orientation": "h",
         "text": [
          "<0.01",
          "<0.01",
          "<0.01",
          "0.02",
          "0.08",
          "0.13",
          "0.15",
          "0.21",
          "0.41"
         ],
         "textposition": "outside",
         "type": "bar",
         "x": [
          0,
          0.0014878349760998149,
          0.003543131995495711,
          0.01969773272921903,
          0.07887160564638204,
          0.12503724767652977,
          0.1512830138636755,
          0.2135775490251804,
          0.4065018840874178
         ],
         "y": [
          "bootstrap_type",
          "od_type",
          "l2_leaf_reg",
          "random_strength",
          "depth",
          "od_wait",
          "bagging_temperature",
          "iterations",
          "learning_rate"
         ]
        }
       ],
       "layout": {
        "template": {
         "data": {
          "bar": [
           {
            "error_x": {
             "color": "#2a3f5f"
            },
            "error_y": {
             "color": "#2a3f5f"
            },
            "marker": {
             "line": {
              "color": "#E5ECF6",
              "width": 0.5
             },
             "pattern": {
              "fillmode": "overlay",
              "size": 10,
              "solidity": 0.2
             }
            },
            "type": "bar"
           }
          ],
          "barpolar": [
           {
            "marker": {
             "line": {
              "color": "#E5ECF6",
              "width": 0.5
             },
             "pattern": {
              "fillmode": "overlay",
              "size": 10,
              "solidity": 0.2
             }
            },
            "type": "barpolar"
           }
          ],
          "carpet": [
           {
            "aaxis": {
             "endlinecolor": "#2a3f5f",
             "gridcolor": "white",
             "linecolor": "white",
             "minorgridcolor": "white",
             "startlinecolor": "#2a3f5f"
            },
            "baxis": {
             "endlinecolor": "#2a3f5f",
             "gridcolor": "white",
             "linecolor": "white",
             "minorgridcolor": "white",
             "startlinecolor": "#2a3f5f"
            },
            "type": "carpet"
           }
          ],
          "choropleth": [
           {
            "colorbar": {
             "outlinewidth": 0,
             "ticks": ""
            },
            "type": "choropleth"
           }
          ],
          "contour": [
           {
            "colorbar": {
             "outlinewidth": 0,
             "ticks": ""
            },
            "colorscale": [
             [
              0,
              "#0d0887"
             ],
             [
              0.1111111111111111,
              "#46039f"
             ],
             [
              0.2222222222222222,
              "#7201a8"
             ],
             [
              0.3333333333333333,
              "#9c179e"
             ],
             [
              0.4444444444444444,
              "#bd3786"
             ],
             [
              0.5555555555555556,
              "#d8576b"
             ],
             [
              0.6666666666666666,
              "#ed7953"
             ],
             [
              0.7777777777777778,
              "#fb9f3a"
             ],
             [
              0.8888888888888888,
              "#fdca26"
             ],
             [
              1,
              "#f0f921"
             ]
            ],
            "type": "contour"
           }
          ],
          "contourcarpet": [
           {
            "colorbar": {
             "outlinewidth": 0,
             "ticks": ""
            },
            "type": "contourcarpet"
           }
          ],
          "heatmap": [
           {
            "colorbar": {
             "outlinewidth": 0,
             "ticks": ""
            },
            "colorscale": [
             [
              0,
              "#0d0887"
             ],
             [
              0.1111111111111111,
              "#46039f"
             ],
             [
              0.2222222222222222,
              "#7201a8"
             ],
             [
              0.3333333333333333,
              "#9c179e"
             ],
             [
              0.4444444444444444,
              "#bd3786"
             ],
             [
              0.5555555555555556,
              "#d8576b"
             ],
             [
              0.6666666666666666,
              "#ed7953"
             ],
             [
              0.7777777777777778,
              "#fb9f3a"
             ],
             [
              0.8888888888888888,
              "#fdca26"
             ],
             [
              1,
              "#f0f921"
             ]
            ],
            "type": "heatmap"
           }
          ],
          "histogram": [
           {
            "marker": {
             "pattern": {
              "fillmode": "overlay",
              "size": 10,
              "solidity": 0.2
             }
            },
            "type": "histogram"
           }
          ],
          "histogram2d": [
           {
            "colorbar": {
             "outlinewidth": 0,
             "ticks": ""
            },
            "colorscale": [
             [
              0,
              "#0d0887"
             ],
             [
              0.1111111111111111,
              "#46039f"
             ],
             [
              0.2222222222222222,
              "#7201a8"
             ],
             [
              0.3333333333333333,
              "#9c179e"
             ],
             [
              0.4444444444444444,
              "#bd3786"
             ],
             [
              0.5555555555555556,
              "#d8576b"
             ],
             [
              0.6666666666666666,
              "#ed7953"
             ],
             [
              0.7777777777777778,
              "#fb9f3a"
             ],
             [
              0.8888888888888888,
              "#fdca26"
             ],
             [
              1,
              "#f0f921"
             ]
            ],
            "type": "histogram2d"
           }
          ],
          "histogram2dcontour": [
           {
            "colorbar": {
             "outlinewidth": 0,
             "ticks": ""
            },
            "colorscale": [
             [
              0,
              "#0d0887"
             ],
             [
              0.1111111111111111,
              "#46039f"
             ],
             [
              0.2222222222222222,
              "#7201a8"
             ],
             [
              0.3333333333333333,
              "#9c179e"
             ],
             [
              0.4444444444444444,
              "#bd3786"
             ],
             [
              0.5555555555555556,
              "#d8576b"
             ],
             [
              0.6666666666666666,
              "#ed7953"
             ],
             [
              0.7777777777777778,
              "#fb9f3a"
             ],
             [
              0.8888888888888888,
              "#fdca26"
             ],
             [
              1,
              "#f0f921"
             ]
            ],
            "type": "histogram2dcontour"
           }
          ],
          "mesh3d": [
           {
            "colorbar": {
             "outlinewidth": 0,
             "ticks": ""
            },
            "type": "mesh3d"
           }
          ],
          "parcoords": [
           {
            "line": {
             "colorbar": {
              "outlinewidth": 0,
              "ticks": ""
             }
            },
            "type": "parcoords"
           }
          ],
          "pie": [
           {
            "automargin": true,
            "type": "pie"
           }
          ],
          "scatter": [
           {
            "fillpattern": {
             "fillmode": "overlay",
             "size": 10,
             "solidity": 0.2
            },
            "type": "scatter"
           }
          ],
          "scatter3d": [
           {
            "line": {
             "colorbar": {
              "outlinewidth": 0,
              "ticks": ""
             }
            },
            "marker": {
             "colorbar": {
              "outlinewidth": 0,
              "ticks": ""
             }
            },
            "type": "scatter3d"
           }
          ],
          "scattercarpet": [
           {
            "marker": {
             "colorbar": {
              "outlinewidth": 0,
              "ticks": ""
             }
            },
            "type": "scattercarpet"
           }
          ],
          "scattergeo": [
           {
            "marker": {
             "colorbar": {
              "outlinewidth": 0,
              "ticks": ""
             }
            },
            "type": "scattergeo"
           }
          ],
          "scattergl": [
           {
            "marker": {
             "colorbar": {
              "outlinewidth": 0,
              "ticks": ""
             }
            },
            "type": "scattergl"
           }
          ],
          "scattermap": [
           {
            "marker": {
             "colorbar": {
              "outlinewidth": 0,
              "ticks": ""
             }
            },
            "type": "scattermap"
           }
          ],
          "scattermapbox": [
           {
            "marker": {
             "colorbar": {
              "outlinewidth": 0,
              "ticks": ""
             }
            },
            "type": "scattermapbox"
           }
          ],
          "scatterpolar": [
           {
            "marker": {
             "colorbar": {
              "outlinewidth": 0,
              "ticks": ""
             }
            },
            "type": "scatterpolar"
           }
          ],
          "scatterpolargl": [
           {
            "marker": {
             "colorbar": {
              "outlinewidth": 0,
              "ticks": ""
             }
            },
            "type": "scatterpolargl"
           }
          ],
          "scatterternary": [
           {
            "marker": {
             "colorbar": {
              "outlinewidth": 0,
              "ticks": ""
             }
            },
            "type": "scatterternary"
           }
          ],
          "surface": [
           {
            "colorbar": {
             "outlinewidth": 0,
             "ticks": ""
            },
            "colorscale": [
             [
              0,
              "#0d0887"
             ],
             [
              0.1111111111111111,
              "#46039f"
             ],
             [
              0.2222222222222222,
              "#7201a8"
             ],
             [
              0.3333333333333333,
              "#9c179e"
             ],
             [
              0.4444444444444444,
              "#bd3786"
             ],
             [
              0.5555555555555556,
              "#d8576b"
             ],
             [
              0.6666666666666666,
              "#ed7953"
             ],
             [
              0.7777777777777778,
              "#fb9f3a"
             ],
             [
              0.8888888888888888,
              "#fdca26"
             ],
             [
              1,
              "#f0f921"
             ]
            ],
            "type": "surface"
           }
          ],
          "table": [
           {
            "cells": {
             "fill": {
              "color": "#EBF0F8"
             },
             "line": {
              "color": "white"
             }
            },
            "header": {
             "fill": {
              "color": "#C8D4E3"
             },
             "line": {
              "color": "white"
             }
            },
            "type": "table"
           }
          ]
         },
         "layout": {
          "annotationdefaults": {
           "arrowcolor": "#2a3f5f",
           "arrowhead": 0,
           "arrowwidth": 1
          },
          "autotypenumbers": "strict",
          "coloraxis": {
           "colorbar": {
            "outlinewidth": 0,
            "ticks": ""
           }
          },
          "colorscale": {
           "diverging": [
            [
             0,
             "#8e0152"
            ],
            [
             0.1,
             "#c51b7d"
            ],
            [
             0.2,
             "#de77ae"
            ],
            [
             0.3,
             "#f1b6da"
            ],
            [
             0.4,
             "#fde0ef"
            ],
            [
             0.5,
             "#f7f7f7"
            ],
            [
             0.6,
             "#e6f5d0"
            ],
            [
             0.7,
             "#b8e186"
            ],
            [
             0.8,
             "#7fbc41"
            ],
            [
             0.9,
             "#4d9221"
            ],
            [
             1,
             "#276419"
            ]
           ],
           "sequential": [
            [
             0,
             "#0d0887"
            ],
            [
             0.1111111111111111,
             "#46039f"
            ],
            [
             0.2222222222222222,
             "#7201a8"
            ],
            [
             0.3333333333333333,
             "#9c179e"
            ],
            [
             0.4444444444444444,
             "#bd3786"
            ],
            [
             0.5555555555555556,
             "#d8576b"
            ],
            [
             0.6666666666666666,
             "#ed7953"
            ],
            [
             0.7777777777777778,
             "#fb9f3a"
            ],
            [
             0.8888888888888888,
             "#fdca26"
            ],
            [
             1,
             "#f0f921"
            ]
           ],
           "sequentialminus": [
            [
             0,
             "#0d0887"
            ],
            [
             0.1111111111111111,
             "#46039f"
            ],
            [
             0.2222222222222222,
             "#7201a8"
            ],
            [
             0.3333333333333333,
             "#9c179e"
            ],
            [
             0.4444444444444444,
             "#bd3786"
            ],
            [
             0.5555555555555556,
             "#d8576b"
            ],
            [
             0.6666666666666666,
             "#ed7953"
            ],
            [
             0.7777777777777778,
             "#fb9f3a"
            ],
            [
             0.8888888888888888,
             "#fdca26"
            ],
            [
             1,
             "#f0f921"
            ]
           ]
          },
          "colorway": [
           "#636efa",
           "#EF553B",
           "#00cc96",
           "#ab63fa",
           "#FFA15A",
           "#19d3f3",
           "#FF6692",
           "#B6E880",
           "#FF97FF",
           "#FECB52"
          ],
          "font": {
           "color": "#2a3f5f"
          },
          "geo": {
           "bgcolor": "white",
           "lakecolor": "white",
           "landcolor": "#E5ECF6",
           "showlakes": true,
           "showland": true,
           "subunitcolor": "white"
          },
          "hoverlabel": {
           "align": "left"
          },
          "hovermode": "closest",
          "mapbox": {
           "style": "light"
          },
          "paper_bgcolor": "white",
          "plot_bgcolor": "#E5ECF6",
          "polar": {
           "angularaxis": {
            "gridcolor": "white",
            "linecolor": "white",
            "ticks": ""
           },
           "bgcolor": "#E5ECF6",
           "radialaxis": {
            "gridcolor": "white",
            "linecolor": "white",
            "ticks": ""
           }
          },
          "scene": {
           "xaxis": {
            "backgroundcolor": "#E5ECF6",
            "gridcolor": "white",
            "gridwidth": 2,
            "linecolor": "white",
            "showbackground": true,
            "ticks": "",
            "zerolinecolor": "white"
           },
           "yaxis": {
            "backgroundcolor": "#E5ECF6",
            "gridcolor": "white",
            "gridwidth": 2,
            "linecolor": "white",
            "showbackground": true,
            "ticks": "",
            "zerolinecolor": "white"
           },
           "zaxis": {
            "backgroundcolor": "#E5ECF6",
            "gridcolor": "white",
            "gridwidth": 2,
            "linecolor": "white",
            "showbackground": true,
            "ticks": "",
            "zerolinecolor": "white"
           }
          },
          "shapedefaults": {
           "line": {
            "color": "#2a3f5f"
           }
          },
          "ternary": {
           "aaxis": {
            "gridcolor": "white",
            "linecolor": "white",
            "ticks": ""
           },
           "baxis": {
            "gridcolor": "white",
            "linecolor": "white",
            "ticks": ""
           },
           "bgcolor": "#E5ECF6",
           "caxis": {
            "gridcolor": "white",
            "linecolor": "white",
            "ticks": ""
           }
          },
          "title": {
           "x": 0.05
          },
          "xaxis": {
           "automargin": true,
           "gridcolor": "white",
           "linecolor": "white",
           "ticks": "",
           "title": {
            "standoff": 15
           },
           "zerolinecolor": "white",
           "zerolinewidth": 2
          },
          "yaxis": {
           "automargin": true,
           "gridcolor": "white",
           "linecolor": "white",
           "ticks": "",
           "title": {
            "standoff": 15
           },
           "zerolinecolor": "white",
           "zerolinewidth": 2
          }
         }
        },
        "title": {
         "text": "Hyperparameter Importances"
        },
        "xaxis": {
         "title": {
          "text": "Hyperparameter Importance"
         }
        },
        "yaxis": {
         "title": {
          "text": "Hyperparameter"
         }
        }
       }
      }
     },
     "metadata": {},
     "output_type": "display_data"
    }
   ],
   "source": [
    "# For a 2nd pass, this plot can help us tune less parameters, and therefore arrive at an optimized model more quickly\n",
    "optuna.visualization.plot_param_importances(study)"
   ]
  },
  {
   "cell_type": "code",
   "execution_count": null,
   "id": "11780ecd",
   "metadata": {},
   "outputs": [],
   "source": [
    "# # Define model with best hyperparams, and possibly train it\n",
    "# best_clf = CatBoostClassifier(cat_features=categorical_features, verbose=0, loss_function='logloss', **study.best_params)"
   ]
  },
  {
   "cell_type": "markdown",
   "id": "e38a28bc",
   "metadata": {},
   "source": [
    "## Crack open the model blackbox\n",
    "After making sure that the model generalizes well, we can interpret its predictions using SHAP values. This will help us understand which features drove the model's decisions.\n",
    "\n",
    "Since the untuned catboost classifier is already doing well, let's apply SHAP to it."
   ]
  },
  {
   "cell_type": "code",
   "execution_count": null,
   "id": "f69ae72c",
   "metadata": {},
   "outputs": [
    {
     "data": {
      "image/png": "[encoded data removed]",
      "text/plain": [
       "<Figure size 800x670 with 2 Axes>"
      ]
     },
     "metadata": {},
     "output_type": "display_data"
    }
   ],
   "source": [
    "explainer = shap.TreeExplainer(baseline_clf)\n",
    "shap_values = explainer.shap_values(X_test)\n",
    "shap.summary_plot(shap_values, X_test)"
   ]
  },
  {
   "cell_type": "markdown",
   "id": "6271e192",
   "metadata": {},
   "source": [
    "And indeed --- the features identified during EDA as \"weakly correlated with target\" are contributing minimally to predictions!"
   ]
  }
 ],
 "metadata": {
  "kernelspec": {
   "display_name": "data-science-good-practices-demo-NBjP4iyU-py3.12",
   "language": "python",
   "name": "python3"
  },
  "language_info": {
   "codemirror_mode": {
    "name": "ipython",
    "version": 3
   },
   "file_extension": ".py",
   "mimetype": "text/x-python",
   "name": "python",
   "nbconvert_exporter": "python",
   "pygments_lexer": "ipython3",
   "version": "3.12.11"
  }
 },
 "nbformat": 4,
 "nbformat_minor": 5
}
